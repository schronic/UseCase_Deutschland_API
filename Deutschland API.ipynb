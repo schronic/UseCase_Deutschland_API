{
 "cells": [
  {
   "cell_type": "code",
   "execution_count": null,
   "id": "ad373cbf",
   "metadata": {},
   "outputs": [],
   "source": [
    "# THE FOLLOWING RETRIEVES ALL COMPANY RELATED INFORMATION FROM \"BUNDESANZEIGER\" AND \"HANDELSREGISTER\" AND SUMMARIZES THE RESPONSE VIA OPEN AI. \n",
    "# SUGGESTION: GIVEN THAT THESE REPORTS ARE MORE OF LESS STANDARDIZED IN FORM YOU SHOULD BE ABLE TO QUITE EASILY RETURN AN APPROPRIATLY FORMATED JSON OBJECT\n",
    " \n",
    "# https://github.com/bundesAPI/deutschland"
   ]
  },
  {
   "cell_type": "code",
   "execution_count": null,
   "id": "8f6de4a8",
   "metadata": {},
   "outputs": [],
   "source": [
    "from deutschland.bundesanzeiger import Bundesanzeiger\n",
    "import openai"
   ]
  },
  {
   "cell_type": "code",
   "execution_count": null,
   "id": "6177e85a",
   "metadata": {},
   "outputs": [],
   "source": [
    "# BUNDESANZEIGER\n",
    "\n",
    "ba = Bundesanzeiger()\n",
    "data = ba.get_reports(\"DEUTSCHE BAHN AG\")"
   ]
  },
  {
   "cell_type": "code",
   "execution_count": null,
   "id": "9b466b6a",
   "metadata": {
    "scrolled": true
   },
   "outputs": [],
   "source": [
    "input_report = data[list(data.keys())[0]]['report'].replace('\\n', ' ').replace('\\xa0', ' ')"
   ]
  },
  {
   "cell_type": "code",
   "execution_count": null,
   "id": "ee8d2332",
   "metadata": {},
   "outputs": [],
   "source": [
    "openai.api_key = \"OPEN AI API KEY\"\n",
    "\n",
    "# SPECIFY HERE HOW EXACTLY YOU WANT THE RESULTS RETURNED\n",
    "\n",
    "def gpt_api(query):\n",
    "    chatgptPrompt = f'Summarize the following text: {query}'\n",
    "    completion = openai.ChatCompletion.create(\n",
    "      model=\"gpt-3.5-turbo\",\n",
    "      messages=[\n",
    "        {\"role\": \"user\", \"content\": chatgptPrompt}\n",
    "      ]\n",
    "    ) \n",
    "    return completion.choices[0].message.content\n"
   ]
  },
  {
   "cell_type": "code",
   "execution_count": null,
   "id": "012cf089",
   "metadata": {},
   "outputs": [],
   "source": [
    "gpt_api(input_report)"
   ]
  },
  {
   "cell_type": "code",
   "execution_count": null,
   "id": "66d1704b",
   "metadata": {},
   "outputs": [],
   "source": [
    "# HANDELSREGISTER"
   ]
  },
  {
   "cell_type": "code",
   "execution_count": null,
   "id": "a7eacd66",
   "metadata": {},
   "outputs": [],
   "source": [
    "import requests \n",
    "from bs4 import BeautifulSoup\n",
    "\n",
    "\n",
    "REQUEST_HEADERS = {\n",
    "                    \"Accept\": \"text/html,application/xhtml+xml,application/xml;q=0.9,image/avif,image/webp,image/apng,*/*;q=0.8,application/signed-exchange;v=b3;q=0.9\",\n",
    "                    \"Cache-Control\": \"max-age=0\",\n",
    "                    \"Connection\": \"keep-alive\",\n",
    "                    \"Content-Type\": \"application/x-www-form-urlencoded\",\n",
    "                    \"DNT\": \"1\",\n",
    "                    \"Host\": \"www.handelsregister.de\",\n",
    "                    \"Origin\": \"https://www.handelsregister.de\",\n",
    "                    \"Referer\": \"https://www.handelsregister.de/rp_web/mask.do?Typ=e\",\n",
    "                    \"sec-ch-ua-mobile\": \"?0\",\n",
    "                    \"sec-ch-ua\": '\"Chromium\";v=\"92\", \" Not A;Brand\";v=\"99\", \"Google Chrome\";v=\"92\"',\n",
    "                    \"Sec-Fetch-Dest\": \"document\",\n",
    "                    \"Sec-Fetch-Mode\": \"navigate\",\n",
    "                    \"Sec-Fetch-Site\": \"same-origin\",\n",
    "                    \"Sec-Fetch-User\": \"?1\",\n",
    "                    \"sec-gpc\": \"1\",\n",
    "                    \"Upgrade-Insecure-Requests\": \"1\",\n",
    "                    \"User-Agent\": \"Mozilla/5.0 (Macintosh; Intel Mac OS X 10_15_7) AppleWebKit/537.36 (KHTML, like Gecko) Chrome/92.0.4515.131 Safari/537.36\",\n",
    "                    }\n",
    "\n",
    "SEARCH_URL = \"https://www.handelsregister.de\"\n",
    "\n",
    "DEFAULT_FORM_DATA = {\n",
    "                    \"schlagwoerter\": None,\n",
    "                    \"schlagwortOptionen\": 2,\n",
    "                    \"suchOptionenAehnlich\": False,\n",
    "                    \"niederlassung\": None,\n",
    "                    \"suchOptionenGeloescht\": False,\n",
    "                    \"suchOptionenNurZNneuenRechts\": False,\n",
    "                    \"suchTyp\": \"e\",\n",
    "                    \"registerArt\": None,\n",
    "                    \"registerNummer\": None,\n",
    "                    \"registergericht\": None,\n",
    "                    \"rechtsform\": None,\n",
    "                    \"postleitzahl\": None,\n",
    "                    \"ort\": None,\n",
    "                    \"strasse\": None,\n",
    "                    \"ergebnisseProSeite\": \"100\",\n",
    "                    \"btnSuche\": \"Suchen\",\n",
    "                    }\n",
    "\n",
    "params = {\n",
    "                    \"schlagwoerter\": 'Deutsche Bahn Aktiengesellschaft',\n",
    "                    \"schlagwortOptionen\": 2,\n",
    "                    \"suchOptionenAehnlich\": False,\n",
    "                    \"niederlassung\": None,\n",
    "                    \"suchOptionenGeloescht\": False,\n",
    "                    \"suchOptionenNurZNneuenRechts\": False,\n",
    "                    \"registerArt\": None,\n",
    "                    \"registerNummer\": None,\n",
    "                    \"registergericht\": None,\n",
    "                    \"rechtsform\": None,\n",
    "                    \"postleitzahl\": None,\n",
    "                    \"ort\": None,\n",
    "                    \"strasse\": None,\n",
    "                    \"ergebnisseProSeite\": 100,\n",
    "                    }\n",
    "\n",
    "\n",
    "\n",
    "response = requests.post(\n",
    "    SEARCH_URL,\n",
    "    data=params,\n",
    "    headers=REQUEST_HEADERS,\n",
    ")\n",
    "soup = BeautifulSoup(response.content, \"html.parser\")\n",
    "\n"
   ]
  },
  {
   "cell_type": "code",
   "execution_count": null,
   "id": "9931a804",
   "metadata": {
    "scrolled": false
   },
   "outputs": [],
   "source": [
    "# Get the whole body tag\n",
    "tag = soup.body\n"
   ]
  },
  {
   "cell_type": "code",
   "execution_count": null,
   "id": "1fefb9b8",
   "metadata": {
    "scrolled": false
   },
   "outputs": [],
   "source": [
    "input_report = ' '.join([tag.replace('\\n', '').replace('\\t', '')for tag in tag.strings])"
   ]
  },
  {
   "cell_type": "code",
   "execution_count": null,
   "id": "d7dffd43",
   "metadata": {},
   "outputs": [],
   "source": [
    "gpt_api(input_report)"
   ]
  },
  {
   "cell_type": "code",
   "execution_count": null,
   "id": "97c837ab",
   "metadata": {},
   "outputs": [],
   "source": []
  }
 ],
 "metadata": {
  "kernelspec": {
   "display_name": "Python 3 (ipykernel)",
   "language": "python",
   "name": "python3"
  },
  "language_info": {
   "codemirror_mode": {
    "name": "ipython",
    "version": 3
   },
   "file_extension": ".py",
   "mimetype": "text/x-python",
   "name": "python",
   "nbconvert_exporter": "python",
   "pygments_lexer": "ipython3",
   "version": "3.8.9"
  }
 },
 "nbformat": 4,
 "nbformat_minor": 5
}
